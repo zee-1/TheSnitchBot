{
 "cells": [
  {
   "cell_type": "code",
   "execution_count": 1,
   "id": "b0130ac2",
   "metadata": {},
   "outputs": [],
   "source": [
    "import sys\n",
    "sys.path.append(r\"D:\\DC\\JJJ\")"
   ]
  },
  {
   "cell_type": "code",
   "execution_count": 2,
   "id": "887780f5",
   "metadata": {},
   "outputs": [],
   "source": [
    "from src.core.dependencies import DependencyContainer"
   ]
  },
  {
   "cell_type": "code",
   "execution_count": 3,
   "id": "48ae83e4",
   "metadata": {},
   "outputs": [],
   "source": [
    "container = DependencyContainer()"
   ]
  },
  {
   "cell_type": "code",
   "execution_count": 4,
   "id": "b5423cac",
   "metadata": {},
   "outputs": [],
   "source": [
    "await  container.initialize()"
   ]
  },
  {
   "cell_type": "code",
   "execution_count": 5,
   "id": "10a59db1",
   "metadata": {},
   "outputs": [],
   "source": [
    "repo = container.get_server_repository()"
   ]
  },
  {
   "cell_type": "code",
   "execution_count": 6,
   "id": "996c10d2",
   "metadata": {},
   "outputs": [
    {
     "name": "stdout",
     "output_type": "stream",
     "text": [
      "==========FETCHING FOR==========\n",
      "Container: operational_data\n",
      "Item: 04289d1f-10a7-4ac8-af63-2becbecb19f6\n",
      "Partition: 287615767816699905\n",
      "==== Fetch result {'id': '04289d1f-10a7-4ac8-af63-2becbecb19f6', 'created_at': '2025-07-19T16:07:14.439522+00:00', 'partition_key': '287615767816699905', 'entity_type': 'server', 'server_id': '287615767816699905', 'server_name': 'Just Live it', 'owner_id': '287615157973024778', 'status': 'active', 'persona': 'sassy_reporter', 'newsletter_enabled': True, 'newsletter_time': '09:00', 'newsletter_timezone': 'UTC', 'max_messages_analysis': 1000, 'controversy_threshold': 0.5, 'admin_users': [], 'moderator_users': [], 'breaking_news_enabled': True, 'fact_check_enabled': True, 'leak_command_enabled': True, 'tip_submission_enabled': True, 'commands_per_minute': 10, 'newsletter_cooldown_hours': 24, 'custom_prompts': {}, 'blacklisted_words': [], 'whitelisted_channels': [], '_rid': 't3puAIDzJ-UDAAAAAAAAAA==', '_self': 'dbs/t3puAA==/colls/t3puAIDzJ-U=/docs/t3puAIDzJ-UDAAAAAAAAAA==/', '_etag': '\"26005b01-0000-2000-0000-687bc2b20000\"', '_attachments': 'attachments/', '_ts': 1752941234}\n"
     ]
    }
   ],
   "source": [
    "out = await repo.get_by_id(\"04289d1f-10a7-4ac8-af63-2becbecb19f6\",\"287615767816699905\")"
   ]
  },
  {
   "cell_type": "code",
   "execution_count": 7,
   "id": "809352ee",
   "metadata": {},
   "outputs": [
    {
     "name": "stdout",
     "output_type": "stream",
     "text": [
      "==========FETCHING FOR==========\n",
      "Container: operational_data\n",
      "Item: 5818ffd5-ea8d-4d55-acca-af0c38055da3\n",
      "Partition: 287615767816699905\n"
     ]
    }
   ],
   "source": [
    "out = await repo.get_by_server_id_partition(\"287615767816699905\")"
   ]
  },
  {
   "cell_type": "code",
   "execution_count": 8,
   "id": "a8db19a3",
   "metadata": {},
   "outputs": [
    {
     "data": {
      "text/plain": [
       "'287615767816699905'"
      ]
     },
     "execution_count": 8,
     "metadata": {},
     "output_type": "execute_result"
    }
   ],
   "source": [
    "out.newsletter_channel_id"
   ]
  },
  {
   "cell_type": "code",
   "execution_count": null,
   "id": "f8c3fae5",
   "metadata": {},
   "outputs": [],
   "source": []
  },
  {
   "cell_type": "code",
   "execution_count": 9,
   "id": "c9bca2fb",
   "metadata": {},
   "outputs": [
    {
     "name": "stdout",
     "output_type": "stream",
     "text": [
      "2025-07-19 23:00:39 [info     ] Registered command: set-persona\n",
      "2025-07-19 23:00:39 [info     ] Registered command: set-news-channel\n",
      "2025-07-19 23:00:39 [info     ] Registered command: set-news-time\n",
      "2025-07-19 23:00:39 [info     ] Registered command: bot-status\n",
      "2025-07-19 23:00:39 [info     ] Registered command: breaking-news\n",
      "2025-07-19 23:00:39 [info     ] Registered command: fact-check\n",
      "2025-07-19 23:00:39 [info     ] Registered command: leak\n",
      "2025-07-19 23:00:39 [info     ] Registered command: help\n"
     ]
    }
   ],
   "source": [
    "\n",
    "from src.discord_bot.bot import SnitchBot, SnitchDiscordClient"
   ]
  },
  {
   "cell_type": "code",
   "execution_count": 10,
   "id": "fbc159c6",
   "metadata": {},
   "outputs": [],
   "source": [
    "settings = container.get_settings()"
   ]
  },
  {
   "cell_type": "code",
   "execution_count": 11,
   "id": "4ac20d6b",
   "metadata": {},
   "outputs": [
    {
     "data": {
      "text/plain": [
       "Settings(discord_token='MTM5NTg1Mjc2ODQwODc2NDQ4Ng.GwsXLC.RJj-YD2HQ7LgHQcR2KuSa4FNNuyYvDtzEgPa88', discord_client_id='1395852768408764486', discord_client_secret='gNkSF4CRGNa2Y8mhoZV0Us9n-18IvaDn', azure_subscription_id='f8523423-3411-4226-b8dc-22bc2f82b074', azure_tenant_id='0bb0023f-e10a-499d-b3e5-0bc0f011fe9a', azure_client_id='6a23040f-d430-44a5-aeaa-86c27dc8f84d', azure_client_secret='ea8c7678-245c-4adb-aa37-e22be0b26182', cosmos_connection_string='AccountEndpoint=https://snitchsql.documents.azure.com:443/;AccountKey=s997ET2guCWcriABNHRb21E5JFQhfnCzeKZqhvVIZrDQn9whJobX0qYSH4us8HPg7H8r3CHLFyGiACDbMZTLbQ==;', cosmos_database_name='snitch', cosmos_container_operational='operational_data', cosmos_container_content='content_data', cosmos_container_servers='servers', cosmos_container_tips='tips', cosmos_container_newsletters='newsletters', cosmos_container_messages='operational_data', blob_connection_string='https://snitchfiles.blob.core.windows.net/snitch-files', blob_container_name='snitch-files', service_bus_connection_string='your_service_bus_connection_string_here', service_bus_queue_messages='message-processing', service_bus_topic_events='bot-events', key_vault_url='https://your-key-vault-name.vault.azure.net/', groq_api_key='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', groq_model_name='mixtral-8x7b-32768', chroma_host='localhost', chroma_port=8000, chroma_persist_directory='chroma_data', environment='development', log_level='INFO', debug=True, default_newsletter_time='09:00', default_timezone='UTC', max_messages_per_analysis=1000, rate_limit_commands_per_minute=10, rate_limit_newsletter_per_day=1, secret_key='your_secret_key_for_encryption_here', encryption_key='your_encryption_key_here', azure_monitor_connection_string='your_azure_monitor_connection_string_here', application_insights_instrumentation_key='your_app_insights_key_here', cloudflare_api_token='your_cloudflare_api_token_here', cloudflare_zone_id='your_cloudflare_zone_id_here', enable_mock_services=True, mock_ai_responses=True, skip_discord_verification=False)"
      ]
     },
     "execution_count": 11,
     "metadata": {},
     "output_type": "execute_result"
    }
   ],
   "source": [
    "settings"
   ]
  },
  {
   "cell_type": "code",
   "execution_count": 12,
   "id": "7927d6d1",
   "metadata": {},
   "outputs": [],
   "source": [
    "client = SnitchDiscordClient(settings)"
   ]
  },
  {
   "cell_type": "code",
   "execution_count": 13,
   "id": "1ffdac2d",
   "metadata": {},
   "outputs": [
    {
     "name": "stderr",
     "output_type": "stream",
     "text": [
      "2025-07-19 23:01:46,587 - src.discord_bot.client - CRITICAL - Discord client failed to become ready in 60 seconds.\n",
      "2025-07-19 23:01:46,587 - src.discord_bot.client - ERROR - API call for get_channel failed. Error: Client not ready: The connection to Discord timed out.\n"
     ]
    },
    {
     "ename": "DiscordError",
     "evalue": "Client not ready: The connection to Discord timed out.",
     "output_type": "error",
     "traceback": [
      "\u001b[31m---------------------------------------------------------------------------\u001b[39m",
      "\u001b[31mCancelledError\u001b[39m                            Traceback (most recent call last)",
      "\u001b[36mFile \u001b[39m\u001b[32m~\\AppData\\Roaming\\uv\\python\\cpython-3.11.13-windows-x86_64-none\\Lib\\asyncio\\tasks.py:500\u001b[39m, in \u001b[36mwait_for\u001b[39m\u001b[34m(fut, timeout)\u001b[39m\n\u001b[32m    499\u001b[39m \u001b[38;5;28;01mtry\u001b[39;00m:\n\u001b[32m--> \u001b[39m\u001b[32m500\u001b[39m     \u001b[38;5;28;01mreturn\u001b[39;00m \u001b[43mfut\u001b[49m\u001b[43m.\u001b[49m\u001b[43mresult\u001b[49m\u001b[43m(\u001b[49m\u001b[43m)\u001b[49m\n\u001b[32m    501\u001b[39m \u001b[38;5;28;01mexcept\u001b[39;00m exceptions.CancelledError \u001b[38;5;28;01mas\u001b[39;00m exc:\n",
      "\u001b[36mFile \u001b[39m\u001b[32m~\\AppData\\Roaming\\uv\\python\\cpython-3.11.13-windows-x86_64-none\\Lib\\asyncio\\locks.py:213\u001b[39m, in \u001b[36mEvent.wait\u001b[39m\u001b[34m(self)\u001b[39m\n\u001b[32m    212\u001b[39m \u001b[38;5;28;01mtry\u001b[39;00m:\n\u001b[32m--> \u001b[39m\u001b[32m213\u001b[39m     \u001b[38;5;28;01mawait\u001b[39;00m fut\n\u001b[32m    214\u001b[39m     \u001b[38;5;28;01mreturn\u001b[39;00m \u001b[38;5;28;01mTrue\u001b[39;00m\n",
      "\u001b[31mCancelledError\u001b[39m: ",
      "\nThe above exception was the direct cause of the following exception:\n",
      "\u001b[31mTimeoutError\u001b[39m                              Traceback (most recent call last)",
      "\u001b[36mFile \u001b[39m\u001b[32mD:\\DC\\JJJ\\src\\discord_bot\\client.py:191\u001b[39m, in \u001b[36mSnitchDiscordClient._wait_for_ready\u001b[39m\u001b[34m(self)\u001b[39m\n\u001b[32m    189\u001b[39m \u001b[38;5;28;01mtry\u001b[39;00m:\n\u001b[32m    190\u001b[39m     \u001b[38;5;66;03m# Wait for the on_ready event to be set, with a timeout.\u001b[39;00m\n\u001b[32m--> \u001b[39m\u001b[32m191\u001b[39m     \u001b[38;5;28;01mawait\u001b[39;00m asyncio.wait_for(\u001b[38;5;28mself\u001b[39m._ready_event.wait(), timeout=\u001b[32m60.0\u001b[39m)\n\u001b[32m    192\u001b[39m \u001b[38;5;28;01mexcept\u001b[39;00m asyncio.TimeoutError:\n",
      "\u001b[36mFile \u001b[39m\u001b[32m~\\AppData\\Roaming\\uv\\python\\cpython-3.11.13-windows-x86_64-none\\Lib\\asyncio\\tasks.py:502\u001b[39m, in \u001b[36mwait_for\u001b[39m\u001b[34m(fut, timeout)\u001b[39m\n\u001b[32m    501\u001b[39m         \u001b[38;5;28;01mexcept\u001b[39;00m exceptions.CancelledError \u001b[38;5;28;01mas\u001b[39;00m exc:\n\u001b[32m--> \u001b[39m\u001b[32m502\u001b[39m             \u001b[38;5;28;01mraise\u001b[39;00m exceptions.TimeoutError() \u001b[38;5;28;01mfrom\u001b[39;00m\u001b[38;5;250m \u001b[39m\u001b[34;01mexc\u001b[39;00m\n\u001b[32m    503\u001b[39m \u001b[38;5;28;01mfinally\u001b[39;00m:\n",
      "\u001b[31mTimeoutError\u001b[39m: ",
      "\nDuring handling of the above exception, another exception occurred:\n",
      "\u001b[31mDiscordError\u001b[39m                              Traceback (most recent call last)",
      "\u001b[36mCell\u001b[39m\u001b[36m \u001b[39m\u001b[32mIn[13]\u001b[39m\u001b[32m, line 1\u001b[39m\n\u001b[32m----> \u001b[39m\u001b[32m1\u001b[39m \u001b[38;5;28;01mawait\u001b[39;00m client.get_channel(\u001b[32m287615767816699905\u001b[39m)\n",
      "\u001b[36mFile \u001b[39m\u001b[32mD:\\DC\\JJJ\\src\\discord_bot\\client.py:59\u001b[39m, in \u001b[36mapi_retry.<locals>.wrapper\u001b[39m\u001b[34m(*args, **kwargs)\u001b[39m\n\u001b[32m     57\u001b[39m \u001b[38;5;28;01masync\u001b[39;00m \u001b[38;5;28;01mdef\u001b[39;00m\u001b[38;5;250m \u001b[39m\u001b[34mwrapper\u001b[39m(*args, **kwargs):\n\u001b[32m     58\u001b[39m     \u001b[38;5;28;01mtry\u001b[39;00m:\n\u001b[32m---> \u001b[39m\u001b[32m59\u001b[39m         \u001b[38;5;28;01mreturn\u001b[39;00m \u001b[38;5;28;01mawait\u001b[39;00m func(*args, **kwargs)\n\u001b[32m     60\u001b[39m     \u001b[38;5;28;01mexcept\u001b[39;00m \u001b[38;5;167;01mException\u001b[39;00m \u001b[38;5;28;01mas\u001b[39;00m e:\n\u001b[32m     61\u001b[39m         logger.error(\u001b[33mf\u001b[39m\u001b[33m\"\u001b[39m\u001b[33mAPI call for \u001b[39m\u001b[38;5;132;01m{\u001b[39;00mfunc.\u001b[34m__name__\u001b[39m\u001b[38;5;132;01m}\u001b[39;00m\u001b[33m failed. Error: \u001b[39m\u001b[38;5;132;01m{\u001b[39;00me\u001b[38;5;132;01m}\u001b[39;00m\u001b[33m\"\u001b[39m)\n",
      "\u001b[36mFile \u001b[39m\u001b[32mD:\\DC\\JJJ\\src\\discord_bot\\client.py:233\u001b[39m, in \u001b[36mSnitchDiscordClient.get_channel\u001b[39m\u001b[34m(self, channel_id)\u001b[39m\n\u001b[32m    230\u001b[39m \u001b[38;5;129m@api_retry\u001b[39m\n\u001b[32m    231\u001b[39m \u001b[38;5;28;01masync\u001b[39;00m \u001b[38;5;28;01mdef\u001b[39;00m\u001b[38;5;250m \u001b[39m\u001b[34mget_channel\u001b[39m(\u001b[38;5;28mself\u001b[39m, channel_id: Union[\u001b[38;5;28mint\u001b[39m, \u001b[38;5;28mstr\u001b[39m]) -> Optional[discord.TextChannel]:\n\u001b[32m    232\u001b[39m \u001b[38;5;250m    \u001b[39m\u001b[33;03m\"\"\"Get text channel by ID.\"\"\"\u001b[39;00m\n\u001b[32m--> \u001b[39m\u001b[32m233\u001b[39m     \u001b[38;5;28;01mawait\u001b[39;00m \u001b[38;5;28mself\u001b[39m._wait_for_ready()\n\u001b[32m    234\u001b[39m     \u001b[38;5;28;01mtry\u001b[39;00m:\n\u001b[32m    235\u001b[39m         channel_id = \u001b[38;5;28mint\u001b[39m(channel_id)\n",
      "\u001b[36mFile \u001b[39m\u001b[32mD:\\DC\\JJJ\\src\\discord_bot\\client.py:194\u001b[39m, in \u001b[36mSnitchDiscordClient._wait_for_ready\u001b[39m\u001b[34m(self)\u001b[39m\n\u001b[32m    192\u001b[39m \u001b[38;5;28;01mexcept\u001b[39;00m asyncio.TimeoutError:\n\u001b[32m    193\u001b[39m     logger.critical(\u001b[33m\"\u001b[39m\u001b[33mDiscord client failed to become ready in 60 seconds.\u001b[39m\u001b[33m\"\u001b[39m)\n\u001b[32m--> \u001b[39m\u001b[32m194\u001b[39m     \u001b[38;5;28;01mraise\u001b[39;00m DiscordError(\u001b[33m\"\u001b[39m\u001b[33mClient not ready: The connection to Discord timed out.\u001b[39m\u001b[33m\"\u001b[39m)\n",
      "\u001b[31mDiscordError\u001b[39m: Client not ready: The connection to Discord timed out."
     ]
    }
   ],
   "source": [
    "await client.get_channel(287615767816699905)"
   ]
  },
  {
   "cell_type": "code",
   "execution_count": null,
   "id": "88fad6d7",
   "metadata": {},
   "outputs": [],
   "source": []
  }
 ],
 "metadata": {
  "kernelspec": {
   "display_name": "JJJ",
   "language": "python",
   "name": "python3"
  },
  "language_info": {
   "codemirror_mode": {
    "name": "ipython",
    "version": 3
   },
   "file_extension": ".py",
   "mimetype": "text/x-python",
   "name": "python",
   "nbconvert_exporter": "python",
   "pygments_lexer": "ipython3",
   "version": "3.11.13"
  }
 },
 "nbformat": 4,
 "nbformat_minor": 5
}
