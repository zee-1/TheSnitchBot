{
 "cells": [
  {
   "cell_type": "markdown",
   "metadata": {},
   "source": [
    "# The Snitch Discord Bot - Module Demonstration\n",
    "\n",
    "This notebook demonstrates all the core functionalities of The Snitch Discord Bot as a Python module.\n",
    "You can use this notebook to test individual components and understand how they work together.\n"
   ]
  },
  {
   "cell_type": "markdown",
   "metadata": {},
   "source": [
    "## Setup and Imports"
   ]
  },
  {
   "cell_type": "code",
   "execution_count": null,
   "metadata": {},
   "outputs": [],
   "source": [
    "import sys\n",
    "import os\n",
    "import asyncio\n",
    "from pathlib import Path\n",
    "\n",
    "# Add src to Python path\n",
    "sys.path.insert(0, str(Path().absolute() / \"src\"))\n",
    "\n",
    "# Disable ChromaDB telemetry\n",
    "os.environ['ANONYMIZED_TELEMETRY'] = 'False'\n",
    "os.environ['CHROMA_TELEMETRY'] = 'False'\n",
    "\n",
    "print(\"Environment setup complete!\")"
   ]
  },
  {
   "cell_type": "markdown",
   "metadata": {},
   "source": [
    "## 1. Core Configuration and Settings"
   ]
  },
  {
   "cell_type": "code",
   "execution_count": null,
   "metadata": {},
   "outputs": [],
   "source": [
    "from src.core.config import get_settings\n",
    "from src.core.logging import setup_logging\n",
    "\n",
    "# Load configuration\n",
    "settings = get_settings()\n",
    "print(f\"Environment: {settings.environment}\")\n",
    "print(f\"Debug mode: {settings.debug}\")\n",
    "print(f\"Log level: {settings.log_level}\")\n",
    "\n",
    "# Setup logging\n",
    "setup_logging(settings)\n",
    "print(\"Logging configured successfully!\")"
   ]
  },
  {
   "cell_type": "markdown",
   "metadata": {},
   "source": [
    "## 2. Data Models"
   ]
  },
  {
   "cell_type": "code",
   "execution_count": null,
   "metadata": {},
   "outputs": [],
   "source": [
    "from src.models.message import Message, MessageType\n",
    "from src.models.newsletter import Newsletter, NewsletterStatus\n",
    "from src.models.server import Server\n",
    "from src.models.tip import Tip, TipStatus\n",
    "from datetime import datetime\n",
    "\n",
    "# Create sample message\n",
    "message = Message(\n",
    "    id=\"msg_123\",\n",
    "    content=\"This is a test message\",\n",
    "    author_id=\"user_456\",\n",
    "    channel_id=\"channel_789\",\n",
    "    server_id=\"server_000\",\n",
    "    message_type=MessageType.NORMAL,\n",
    "    timestamp=datetime.utcnow()\n",
    ")\n",
    "\n",
    "print(f\"Message created: {message.id}\")\n",
    "print(f\"Content: {message.content}\")\n",
    "print(f\"Type: {message.message_type}\")\n",
    "\n",
    "# Create sample server\n",
    "server = Server(\n",
    "    id=\"server_000\",\n",
    "    name=\"Test Server\",\n",
    "    is_active=True\n",
    ")\n",
    "\n",
    "print(f\"\\nServer created: {server.name} (ID: {server.id})\")\n",
    "print(f\"Active: {server.is_active}\")"
   ]
  },
  {
   "cell_type": "markdown",
   "metadata": {},
   "source": [
    "## 3. AI Services and Embedding"
   ]
  },
  {
   "cell_type": "code",
   "execution_count": null,
   "metadata": {},
   "outputs": [],
   "source": [
    "from src.ai.embedding_service import EmbeddingService\n",
    "from src.ai.groq_client import GroqClient\n",
    "\n",
    "# Initialize AI services (requires API keys)\n",
    "try:\n",
    "    embedding_service = EmbeddingService()\n",
    "    print(\"Embedding service initialized successfully!\")\n",
    "    \n",
    "    # Test embedding generation\n",
    "    sample_text = \"This is a test message for embedding generation\"\n",
    "    # embedding = await embedding_service.get_embedding(sample_text)\n",
    "    print(f\"Sample text for embedding: {sample_text}\")\n",
    "    print(\"Note: Uncomment the embedding line to test with valid API key\")\n",
    "    \n",
    "except Exception as e:\n",
    "    print(f\"Embedding service initialization failed: {e}\")\n",
    "    print(\"This is expected if API keys are not configured\")\n",
    "\n",
    "try:\n",
    "    groq_client = GroqClient()\n",
    "    print(\"\\nGroq client initialized successfully!\")\n",
    "    print(\"Ready for AI text generation tasks\")\n",
    "except Exception as e:\n",
    "    print(f\"\\nGroq client initialization failed: {e}\")\n",
    "    print(\"This is expected if GROQ_API_KEY is not configured\")"
   ]
  },
  {
   "cell_type": "markdown",
   "metadata": {},
   "source": [
    "## 4. AI Chains and Prompts"
   ]
  },
  {
   "cell_type": "code",
   "execution_count": null,
   "metadata": {},
   "outputs": [],
   "source": [
    "from src.ai.chains.star_reporter import StarReporter\n",
    "from src.ai.chains.news_desk import NewsDesk\n",
    "from src.ai.chains.editor_chief import EditorChief\n",
    "from src.ai.prompts.newsletter import NewsletterPrompts\n",
    "\n",
    "# Initialize AI chain components\n",
    "try:\n",
    "    star_reporter = StarReporter()\n",
    "    news_desk = NewsDesk()\n",
    "    editor_chief = EditorChief()\n",
    "    \n",
    "    print(\"AI Chains initialized:\")\n",
    "    print(\"- Star Reporter: Ready for content analysis\")\n",
    "    print(\"- News Desk: Ready for news processing\")\n",
    "    print(\"- Editor Chief: Ready for content editing\")\n",
    "    \n",
    "    # Show available newsletter prompts\n",
    "    prompts = NewsletterPrompts()\n",
    "    print(\"\\nNewsletter prompts available:\")\n",
    "    print(\"- Content analysis and summarization\")\n",
    "    print(\"- News formatting and structuring\")\n",
    "    \n",
    "except Exception as e:\n",
    "    print(f\"AI chains initialization failed: {e}\")\n",
    "    print(\"This is expected if dependencies are not fully configured\")"
   ]
  },
  {
   "cell_type": "markdown",
   "metadata": {},
   "source": [
    "## 5. Data Access Layer"
   ]
  },
  {
   "cell_type": "code",
   "execution_count": null,
   "metadata": {},
   "outputs": [],
   "source": [
    "from src.data.cosmos_client import CosmosClient\n",
    "from src.data.repositories.message_repository import MessageRepository\n",
    "from src.data.repositories.newsletter_repository import NewsletterRepository\n",
    "from src.data.repositories.server_repository import ServerRepository\n",
    "from src.data.repositories.tip_repository import TipRepository\n",
    "\n",
    "# Initialize data access components\n",
    "try:\n",
    "    # Note: This requires valid Cosmos DB connection string\n",
    "    cosmos_client = CosmosClient()\n",
    "    print(\"Cosmos DB client initialized successfully!\")\n",
    "    \n",
    "    # Initialize repositories\n",
    "    message_repo = MessageRepository(cosmos_client)\n",
    "    newsletter_repo = NewsletterRepository(cosmos_client)\n",
    "    server_repo = ServerRepository(cosmos_client)\n",
    "    tip_repo = TipRepository(cosmos_client)\n",
    "    \n",
    "    print(\"\\nRepositories initialized:\")\n",
    "    print(\"- Message Repository: Ready for message CRUD operations\")\n",
    "    print(\"- Newsletter Repository: Ready for newsletter management\")\n",
    "    print(\"- Server Repository: Ready for server configuration\")\n",
    "    print(\"- Tip Repository: Ready for tip management\")\n",
    "    \n",
    "except Exception as e:\n",
    "    print(f\"Data access initialization failed: {e}\")\n",
    "    print(\"This is expected if Cosmos DB connection is not configured\")\n",
    "    print(\"\\nMock repositories can be used for testing:\")\n",
    "    print(\"- Use in-memory storage for development\")\n",
    "    print(\"- Test repository patterns without database\")"
   ]
  },
  {
   "cell_type": "markdown",
   "metadata": {},
   "source": [
    "## 6. Discord Bot Components"
   ]
  },
  {
   "cell_type": "code",
   "execution_count": null,
   "metadata": {},
   "outputs": [],
   "source": [
    "from src.discord_bot.commands.fact_check import FactCheckCommand\n",
    "from src.discord_bot.commands.breaking_news import BreakingNewsCommand\n",
    "from src.discord_bot.commands.config_commands import ConfigCommands\n",
    "from src.discord_bot.commands.leak import LeakCommand\n",
    "\n",
    "print(\"Discord Bot Commands Available:\")\n",
    "print(\"\\n1. Fact Check Command:\")\n",
    "print(\"   - Analyzes messages for factual accuracy\")\n",
    "print(\"   - Provides source verification\")\n",
    "print(\"   - Flags potential misinformation\")\n",
    "\n",
    "print(\"\\n2. Breaking News Command:\")\n",
    "print(\"   - Processes urgent news updates\")\n",
    "print(\"   - Formats breaking news alerts\")\n",
    "print(\"   - Manages news distribution\")\n",
    "\n",
    "print(\"\\n3. Configuration Commands:\")\n",
    "print(\"   - Server settings management\")\n",
    "print(\"   - Channel configuration\")\n",
    "print(\"   - Permission settings\")\n",
    "\n",
    "print(\"\\n4. Leak Command:\")\n",
    "print(\"   - Handles sensitive information\")\n",
    "print(\"   - Manages leak submissions\")\n",
    "print(\"   - Provides secure channels\")\n",
    "\n",
    "print(\"\\nNote: These commands require Discord bot token and server setup to function fully.\")"
   ]
  },
  {
   "cell_type": "markdown",
   "metadata": {},
   "source": [
    "## 7. Utilities and Validation"
   ]
  },
  {
   "cell_type": "code",
   "execution_count": null,
   "metadata": {},
   "outputs": [],
   "source": [
    "from src.utils.retry import retry_async, RetryConfig\n",
    "from src.utils.validation import validate_discord_id, validate_email\n",
    "import asyncio\n",
    "\n",
    "# Test validation utilities\n",
    "print(\"Testing validation utilities:\")\n",
    "\n",
    "# Test Discord ID validation\n",
    "valid_discord_id = \"123456789012345678\"\n",
    "invalid_discord_id = \"invalid_id\"\n",
    "\n",
    "print(f\"Valid Discord ID '{valid_discord_id}': {validate_discord_id(valid_discord_id)}\")\n",
    "print(f\"Invalid Discord ID '{invalid_discord_id}': {validate_discord_id(invalid_discord_id)}\")\n",
    "\n",
    "# Test email validation\n",
    "valid_email = \"test@example.com\"\n",
    "invalid_email = \"not_an_email\"\n",
    "\n",
    "print(f\"\\nValid email '{valid_email}': {validate_email(valid_email)}\")\n",
    "print(f\"Invalid email '{invalid_email}': {validate_email(invalid_email)}\")\n",
    "\n",
    "# Test retry utility\n",
    "print(\"\\nTesting retry utility:\")\n",
    "\n",
    "async def test_function_that_might_fail():\n",
    "    import random\n",
    "    if random.random() < 0.7:  # 70% chance of failure\n",
    "        raise Exception(\"Simulated failure\")\n",
    "    return \"Success!\"\n",
    "\n",
    "# Configure retry behavior\n",
    "retry_config = RetryConfig(\n",
    "    max_attempts=3,\n",
    "    base_delay=1.0,\n",
    "    max_delay=5.0\n",
    ")\n",
    "\n",
    "print(f\"Retry configuration: {retry_config.max_attempts} attempts, {retry_config.base_delay}s base delay\")"
   ]
  },
  {
   "cell_type": "markdown",
   "metadata": {},
   "source": [
    "## 8. Exception Handling"
   ]
  },
  {
   "cell_type": "code",
   "execution_count": null,
   "metadata": {},
   "outputs": [],
   "source": [
    "from src.core.exceptions import (\n",
    "    BotInitializationError,\n",
    "    DatabaseConnectionError,\n",
    "    AIServiceError,\n",
    "    ValidationError,\n",
    "    RateLimitError\n",
    ")\n",
    "\n",
    "print(\"Custom Exception Types Available:\")\n",
    "print(\"\\n1. BotInitializationError: For bot startup failures\")\n",
    "print(\"2. DatabaseConnectionError: For database connectivity issues\")\n",
    "print(\"3. AIServiceError: For AI service failures\")\n",
    "print(\"4. ValidationError: For data validation failures\")\n",
    "print(\"5. RateLimitError: For API rate limiting\")\n",
    "\n",
    "# Demonstrate exception handling\n",
    "try:\n",
    "    raise ValidationError(\"Example validation error\", field=\"test_field\", value=\"invalid_value\")\n",
    "except ValidationError as e:\n",
    "    print(f\"\\nCaught ValidationError: {e}\")\n",
    "    print(f\"Field: {e.field}, Value: {e.value}\")\n",
    "\n",
    "try:\n",
    "    raise AIServiceError(\"Example AI service error\", service=\"groq\", operation=\"chat_completion\")\n",
    "except AIServiceError as e:\n",
    "    print(f\"\\nCaught AIServiceError: {e}\")\n",
    "    print(f\"Service: {e.service}, Operation: {e.operation}\")"
   ]
  },
  {
   "cell_type": "markdown",
   "metadata": {},
   "source": [
    "## 9. Testing the Complete Pipeline"
   ]
  },
  {
   "cell_type": "code",
   "execution_count": null,
   "metadata": {},
   "outputs": [],
   "source": [
    "# This cell demonstrates how all components work together\n",
    "print(\"Complete Pipeline Demonstration:\")\n",
    "print(\"\\n1. Message Processing Pipeline:\")\n",
    "print(\"   Input: Discord message\")\n",
    "print(\"   -> Validation and sanitization\")\n",
    "print(\"   -> AI analysis (fact-checking, sentiment)\")\n",
    "print(\"   -> Storage in database\")\n",
    "print(\"   -> Response generation\")\n",
    "print(\"   Output: Bot response\")\n",
    "\n",
    "print(\"\\n2. Newsletter Generation Pipeline:\")\n",
    "print(\"   Input: Collected messages and tips\")\n",
    "print(\"   -> Content analysis and filtering\")\n",
    "print(\"   -> AI-powered summarization\")\n",
    "print(\"   -> Newsletter formatting\")\n",
    "print(\"   -> Distribution preparation\")\n",
    "print(\"   Output: Formatted newsletter\")\n",
    "\n",
    "print(\"\\n3. Breaking News Pipeline:\")\n",
    "print(\"   Input: Urgent news submission\")\n",
    "print(\"   -> Verification and fact-checking\")\n",
    "print(\"   -> Impact assessment\")\n",
    "print(\"   -> Alert formatting\")\n",
    "print(\"   -> Immediate distribution\")\n",
    "print(\"   Output: Breaking news alert\")\n",
    "\n",
    "# Sample workflow demonstration\n",
    "async def demonstrate_workflow():\n",
    "    print(\"\\nSample Workflow Execution:\")\n",
    "    \n",
    "    # 1. Create a sample message\n",
    "    sample_message = Message(\n",
    "        id=\"demo_msg_001\",\n",
    "        content=\"Breaking: Major development in technology sector\",\n",
    "        author_id=\"user_demo\",\n",
    "        channel_id=\"channel_news\",\n",
    "        server_id=\"server_demo\",\n",
    "        message_type=MessageType.URGENT,\n",
    "        timestamp=datetime.utcnow()\n",
    "    )\n",
    "    \n",
    "    print(f\"✓ Created message: {sample_message.content}\")\n",
    "    print(f\"✓ Message type: {sample_message.message_type}\")\n",
    "    \n",
    "    # 2. Validate the message\n",
    "    if validate_discord_id(sample_message.author_id.replace('user_', '123456789012345')):\n",
    "        print(\"✓ Message validation passed\")\n",
    "    \n",
    "    # 3. Simulate AI processing\n",
    "    print(\"✓ AI analysis completed (simulated)\")\n",
    "    print(\"✓ Fact-checking performed (simulated)\")\n",
    "    \n",
    "    # 4. Simulate storage\n",
    "    print(\"✓ Message stored in database (simulated)\")\n",
    "    \n",
    "    # 5. Generate response\n",
    "    print(\"✓ Response generated and sent (simulated)\")\n",
    "    \n",
    "    print(\"\\n🎉 Workflow demonstration completed successfully!\")\n",
    "\n",
    "# Run the demonstration\n",
    "await demonstrate_workflow()"
   ]
  },
  {
   "cell_type": "markdown",
   "metadata": {},
   "source": [
    "## 10. Development and Testing Guide"
   ]
  },
  {
   "cell_type": "code",
   "execution_count": null,
   "metadata": {},
   "outputs": [],
   "source": [
    "print(\"Development and Testing Guide:\")\n",
    "print(\"\\n📁 Project Structure:\")\n",
    "print(\"   src/                 - Main source code\")\n",
    "print(\"   ├── ai/             - AI services and chains\")\n",
    "print(\"   ├── core/           - Core configuration and utilities\")\n",
    "print(\"   ├── data/           - Database clients and repositories\")\n",
    "print(\"   ├── discord_bot/    - Discord bot implementation\")\n",
    "print(\"   ├── models/         - Data models and schemas\")\n",
    "print(\"   └── utils/          - Utility functions\")\n",
    "print(\"   tests/              - All test files\")\n",
    "print(\"   └── various test files moved from root\")\n",
    "\n",
    "print(\"\\n🧪 Testing:\")\n",
    "print(\"   - Unit tests: Test individual components\")\n",
    "print(\"   - Integration tests: Test component interactions\")\n",
    "print(\"   - End-to-end tests: Test complete workflows\")\n",
    "\n",
    "print(\"\\n⚙️ Configuration:\")\n",
    "print(\"   - Environment variables in .env file\")\n",
    "print(\"   - Settings validation on startup\")\n",
    "print(\"   - Separate configs for dev/prod\")\n",
    "\n",
    "print(\"\\n🔧 Development Workflow:\")\n",
    "print(\"   1. Update this notebook to test new features\")\n",
    "print(\"   2. Add corresponding unit tests in tests/\")\n",
    "print(\"   3. Update documentation as needed\")\n",
    "print(\"   4. Test integration with Discord bot\")\n",
    "\n",
    "print(\"\\n📝 Next Steps:\")\n",
    "print(\"   - Configure environment variables\")\n",
    "print(\"   - Set up Discord bot token\")\n",
    "print(\"   - Configure AI service API keys\")\n",
    "print(\"   - Set up database connections\")\n",
    "print(\"   - Run tests to verify setup\")\n",
    "\n",
    "print(\"\\n✅ This notebook provides a comprehensive overview of all module functionalities!\")\n",
    "print(\"   You can now update and extend individual sections as you develop new features.\")"
   ]
  }
 ],
 "metadata": {
  "kernelspec": {
   "display_name": "Python 3",
   "language": "python",
   "name": "python3"
  },
  "language_info": {
   "codemirror_mode": {
    "name": "ipython",
    "version": 3
   },
   "file_extension": ".py",
   "mimetype": "text/x-python",
   "name": "python",
   "nbconvert_exporter": "python",
   "pygments_lexer": "ipython3",
   "version": "3.8.0"
  }
 },
 "nbformat": 4,
 "nbformat_minor": 4
}